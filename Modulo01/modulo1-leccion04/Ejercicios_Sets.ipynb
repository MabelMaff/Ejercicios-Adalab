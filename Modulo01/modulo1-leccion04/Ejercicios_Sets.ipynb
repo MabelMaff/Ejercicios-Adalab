{
 "cells": [
  {
   "cell_type": "markdown",
   "metadata": {},
   "source": [
    "- Definir sets\n",
    "\n",
    "  1. Define la *lista* \n",
    "        ```python\n",
    "        temperaturas_diciembre = [10, 10, 13, 14, 12, 15, \n",
    "                                  12, 11, 13, 17, 18, 15, \n",
    "                                  15, 17, 17, 13, 13, 11,\n",
    "                                  12, 10, 12, 14, 12, 12,\n",
    "                                  11, 12, 16, 16, 14, 17, 18]\n",
    "        ```\n",
    "  2. Conviértala en un set  llamado `diciembre`.\n",
    "\n",
    "  3. Piensa en 6 colores y almacenalos en un set llamado `colores`."
   ]
  },
  {
   "cell_type": "markdown",
   "metadata": {},
   "source": [
    "- Ampliar sets\n",
    "\n",
    "  4. Añade `'lila'` a `colores`.\n",
    "\n",
    "  5. Añade `'azul'`, `'rojo'`, y `'granate'` a `colores` usando `.update()`."
   ]
  },
  {
   "cell_type": "markdown",
   "metadata": {},
   "source": [
    "- `in`, `not in`\n",
    "\n",
    "  6. Tu set de `colores`, ¿tiene `'verde'`?\n",
    "  \n",
    "  7. ¿Y tiene `'ROJO'`?"
   ]
  },
  {
   "cell_type": "markdown",
   "metadata": {},
   "source": [
    "- Copiar, borrar elementos\n",
    "\n",
    "  8. Define el set `enero` para que sea igual a `diciembre`.\n",
    "\n",
    "  9. Quita las temperaturas `17`, y `18` de `enero`."
   ]
  },
  {
   "cell_type": "markdown",
   "metadata": {},
   "source": [
    "- Tamaño de un set\n",
    "\n",
    "  10. ¿Cuántas temperaturas distintas había en diciembre?\n",
    "  \n",
    "  11. ¿Y cuántas en enero?"
   ]
  },
  {
   "cell_type": "markdown",
   "metadata": {},
   "source": [
    "- Conjuntos con sets\n",
    "\n",
    "  12. Identifica los elementos que hay en `diciembre` que no están en `enero`.\n",
    "\n",
    "  13. Identifica los elementos que hay en `enero` que no están en `diciembre`.\n",
    "\n",
    "  14. Identifica los elementos que tienen en común `diciembre` y `enero`.\n",
    "\n",
    "  15. Identifica la diferencia simétrica de `colores` y `{'marrón','amarillo','cyan'}`. ¿Qué significa este resultado?"
   ]
  },
  {
   "cell_type": "markdown",
   "metadata": {},
   "source": [
    "- Comparar sets\n",
    "\n",
    "  16. ¿Son *disjoint* `diciembre` y `enero`? ¿Por qué (no)?\n",
    "\n",
    "  17. ¿Es `{'rojo','azul'}` un superset de colores?\n",
    "  \n",
    "  18. ¿Y un subset?\n",
    "\n",
    "---"
   ]
  }
 ],
 "metadata": {
  "language_info": {
   "name": "python"
  }
 },
 "nbformat": 4,
 "nbformat_minor": 2
}
