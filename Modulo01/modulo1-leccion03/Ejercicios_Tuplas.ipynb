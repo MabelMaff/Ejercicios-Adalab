{
 "cells": [
  {
   "cell_type": "markdown",
   "metadata": {},
   "source": [
    "- Definir tuplas\n",
    "\n",
    "  1. Crea una tupla `persona1` para juntar los siguientes datos: 61 kg, 1.54 m altura, pelo marrón, sin usar paréntesis. (Serán del tipo `int`, `float` y `str`.)\n",
    "\n",
    "  2. Crea una tupla para la `persona2` de 68 kg, 1.65 m y pelo rubio, usando paréntesis.\n",
    "\n",
    "  3. Crea una lista `talla` que recompila 'M', 42, y 39. "
   ]
  },
  {
   "cell_type": "markdown",
   "metadata": {},
   "source": [
    "- Convertir y juntar\n",
    "\n",
    "  4. Convierte la lista `talla` a una tupla.\n",
    "  \n",
    "  5. Une a la tupla de `persona1` los datos en `talla`, para tener una única tupla."
   ]
  },
  {
   "cell_type": "markdown",
   "metadata": {},
   "source": [
    "- Indexar tuplas\n",
    "\n",
    "  6. Saca de `persona2` el contenido del tercer elemento y llámalo `color`.\n",
    "\n",
    "  7. ¿Cuántos elementos hay ahora en `persona1`? (Es decir, ¿cuál es su longitud?)"
   ]
  },
  {
   "cell_type": "markdown",
   "metadata": {},
   "source": [
    "- Desempaquetar\n",
    "\n",
    "  8. Crea las variables `peso`, `altura`, `color_pelo` y llénalas con el contenido de `persona1`. Imprime `color_pelo` para comprobar el resultado."
   ]
  },
  {
   "cell_type": "markdown",
   "metadata": {},
   "source": [
    "- Zipear\n",
    "\n",
    "  9. Crea el zip `personas` con `persona1` y `persona2`.\n",
    "\n",
    "  10. ¿Cuántas \"elementos\" tiene `personas`? ¿Por qué?\n",
    "\n",
    "  11. Crea una tupla `etiquetas` con `'peso'`, `'altura'`, y `'color_pelo'`.\n",
    "\n",
    "  12. Crea al zip de `etiquetas`, `persona1`, y `persona2`, llamado \"todo\"."
   ]
  },
  {
   "cell_type": "markdown",
   "metadata": {},
   "source": [
    "- Manipular zips\n",
    "\n",
    "  13. Ordena las propiedades de la variable `personas` alfabéticamente. ¿Puedes? ¿Por qué?\n",
    "\n",
    "---"
   ]
  }
 ],
 "metadata": {
  "language_info": {
   "name": "python"
  }
 },
 "nbformat": 4,
 "nbformat_minor": 2
}
