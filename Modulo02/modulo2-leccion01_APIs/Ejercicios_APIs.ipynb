{
 "cells": [
  {
   "cell_type": "markdown",
   "metadata": {},
   "source": [
    "1.  Utilizando la API de Balldontlie extrae la siguiente información. \n",
    "\n",
    "    - El nombre, apellido y equipo de cada uno de los jugadores que tenemos en la NBA. Para eso tendrás que usar el [siguiente](https://www.balldontlie.io/home.html#players) endpoint. Extrae información de 200 jugadores. Devuelve los resultados en un DataFrame. Te deberá quedar algo parecido a esto:\n",
    "\n",
    "        ![jugadores](https://github.com/Adalab/data_imagenes/blob/main/Modulo-2/api's_clase_invertida_jugadores.png?raw=true)\n",
    "\n",
    "\n",
    "    - Extrae información de todos los partidos jugados, en concreto deberás sacar la información del nombre del equipo local, nombre del equipo visitante, puntos del equipo local y del visitante y la temporada a la que pertenece el partido. Para eso tendrás que usar el [siguiente](https://www.balldontlie.io/home.html#get-all-games) endpoint. Extrae la información de 200 partidos. Devuelve los resultados en un DataFrame. Te deberá quedar algo parecido a esto: \n",
    "\n",
    "        ![partidos](https://github.com/Adalab/data_imagenes/blob/main/Modulo-2/api's_clase_invertida_partidos.png?raw=true)"
   ]
  },
  {
   "cell_type": "code",
   "execution_count": null,
   "metadata": {},
   "outputs": [],
   "source": [
    "#Instalamos la librería requests.\n",
    "!pip install requests"
   ]
  },
  {
   "cell_type": "code",
   "execution_count": null,
   "metadata": {},
   "outputs": [],
   "source": [
    "#Importamos pandas, requests y re. Establecemos Panda como pd.\n",
    "import pandas as pd\n",
    "import requests\n",
    "import re"
   ]
  },
  {
   "cell_type": "code",
   "execution_count": null,
   "metadata": {},
   "outputs": [],
   "source": [
    "# Nos autentificamos y aplicamos lo que nos piden en documentos. \n",
    "# curl \"https://api.balldontlie.io/v1/teams\" \\\n",
    "#   -H \"Authorization: 72fc3419-1f73-4bde-bdce-850ba7d74441\""
   ]
  },
  {
   "cell_type": "code",
   "execution_count": null,
   "metadata": {},
   "outputs": [],
   "source": [
    "# Nos autentificamos y aplicamos lo que nos piden en documentos.\n",
    "# curl \"https://api.balldontlie.io/v1/players\" \\\n",
    "#   -H \"Authorization: 72fc3419-1f73-4bde-bdce-850ba7d74441\""
   ]
  },
  {
   "cell_type": "code",
   "execution_count": null,
   "metadata": {},
   "outputs": [],
   "source": [
    "api_key = '72fc3419-1f73-4bde-bdce-850ba7d74441'\n",
    "headers = {\n",
    "    'Authorization': api_key                       \n",
    "}"
   ]
  },
  {
   "cell_type": "code",
   "execution_count": null,
   "metadata": {},
   "outputs": [],
   "source": [
    "def llamar_api_baloncesto (url, headers):\n",
    "    \"\"\"\n",
    "    Realiza una llamada a una API utilizando la URL proporcionada.\n",
    "    \n",
    "    Parameters: \n",
    "    -----------\n",
    "    url (str): La URL de la API que se va a llamar.\n",
    "    \n",
    "    Returns: \n",
    "    --------\n",
    "    dict or None: Un diccionario con los datos de respuesta de la API.\n",
    "                  None, si la llamada falló o no se pudo autenticar.\n",
    "    \"\"\"\n",
    "    llamada = requests.get (url, headers = headers)\n",
    "    print (f\"La llamada nos ha dado una respuesta tipo {llamada.status_code}\")\n",
    "    \n",
    "    \n",
    "    if llamada.status_code != 200:\n",
    "        print (f\"El motivo por el que la llamada no ha funcionado es {llamada.status_code}\")\n",
    "        return None\n",
    "    try:\n",
    "        return llamada.json()\n",
    "    except ValueError as e:\n",
    "        print(\"La respuesta no es un JSON válido. Error:\", e)\n",
    "        print(\"Respuesta recibida:\", llamada.text)\n",
    "        return None"
   ]
  },
  {
   "cell_type": "code",
   "execution_count": null,
   "metadata": {},
   "outputs": [],
   "source": [
    "url_players = \"http://api.balldontlie.io/v1/players?api_key={api_key}\"\n",
    "json_players = llamar_api_baloncesto (url_players, headers)\n",
    "df_players = pd.DataFrame (json_players)"
   ]
  }
 ],
 "metadata": {
  "kernelspec": {
   "display_name": "base",
   "language": "python",
   "name": "python3"
  },
  "language_info": {
   "codemirror_mode": {
    "name": "ipython",
    "version": 3
   },
   "file_extension": ".py",
   "mimetype": "text/x-python",
   "name": "python",
   "nbconvert_exporter": "python",
   "pygments_lexer": "ipython3",
   "version": "3.9.7"
  }
 },
 "nbformat": 4,
 "nbformat_minor": 2
}
