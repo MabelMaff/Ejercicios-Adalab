{
 "cells": [
  {
   "cell_type": "markdown",
   "metadata": {},
   "source": [
    "1.  Utilizando la API de Balldontlie extrae la siguiente información. \n",
    "\n",
    "    - El nombre, apellido y equipo de cada uno de los jugadores que tenemos en la NBA. Para eso tendrás que usar el [siguiente](https://www.balldontlie.io/home.html#players) endpoint. Extrae información de 200 jugadores. Devuelve los resultados en un DataFrame. Te deberá quedar algo parecido a esto:\n",
    "\n",
    "        ![jugadores](https://github.com/Adalab/data_imagenes/blob/main/Modulo-2/api's_clase_invertida_jugadores.png?raw=true)\n",
    "\n",
    "\n",
    "    - Extrae información de todos los partidos jugados, en concreto deberás sacar la información del nombre del equipo local, nombre del equipo visitante, puntos del equipo local y del visitante y la temporada a la que pertenece el partido. Para eso tendrás que usar el [siguiente](https://www.balldontlie.io/home.html#get-all-games) endpoint. Extrae la información de 200 partidos. Devuelve los resultados en un DataFrame. Te deberá quedar algo parecido a esto: \n",
    "\n",
    "        ![partidos](https://github.com/Adalab/data_imagenes/blob/main/Modulo-2/api's_clase_invertida_partidos.png?raw=true)"
   ]
  }
 ],
 "metadata": {
  "language_info": {
   "name": "python"
  }
 },
 "nbformat": 4,
 "nbformat_minor": 2
}
