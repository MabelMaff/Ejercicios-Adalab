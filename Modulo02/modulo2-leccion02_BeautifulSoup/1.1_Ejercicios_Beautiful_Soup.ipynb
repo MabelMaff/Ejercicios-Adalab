{
 "cells": [
  {
   "cell_type": "markdown",
   "metadata": {},
   "source": [
    "1. Usa la [siguiente](https://es.wikipedia.org/wiki/Anexo:Medallero_de_los_Juegos_Ol%C3%ADmpicos_de_Tokio_2020) página web."
   ]
  },
  {
   "cell_type": "markdown",
   "metadata": {},
   "source": [
    "2. Extrae la tabla de las medallas olímpicas que tenéis en la página web."
   ]
  },
  {
   "cell_type": "markdown",
   "metadata": {},
   "source": [
    "3. Mete todo el código de la extracción de datos en una función."
   ]
  },
  {
   "cell_type": "markdown",
   "metadata": {},
   "source": [
    "4. Los resultados deben estar en un *DataFrame* y hacer una exploración básica con los métodos aprendidos en la lección. "
   ]
  },
  {
   "cell_type": "code",
   "execution_count": 1,
   "metadata": {},
   "outputs": [
    {
     "name": "stdout",
     "output_type": "stream",
     "text": [
      "Requirement already satisfied: beautifulsoup4 in /home/mabel/anaconda3/lib/python3.9/site-packages (4.10.0)\n",
      "Requirement already satisfied: soupsieve>1.2 in /home/mabel/anaconda3/lib/python3.9/site-packages (from beautifulsoup4) (2.2.1)\n"
     ]
    }
   ],
   "source": [
    "# !pip install beautifulsoup4"
   ]
  },
  {
   "cell_type": "code",
   "execution_count": 5,
   "metadata": {},
   "outputs": [],
   "source": [
    "# Llamamos todo lo que vamos a usar. \n",
    "from bs4 import BeautifulSoup\n",
    "import requests\n",
    "import pandas as pd\n",
    "import re"
   ]
  },
  {
   "cell_type": "code",
   "execution_count": 6,
   "metadata": {},
   "outputs": [
    {
     "data": {
      "text/plain": [
       "200"
      ]
     },
     "execution_count": 6,
     "metadata": {},
     "output_type": "execute_result"
    }
   ],
   "source": [
    "url_wiki = \"https://es.wikipedia.org/wiki/Anexo:Medallero_de_los_Juegos_Ol%C3%ADmpicos_de_Tokio_2020\"\n",
    "req_wiki = requests.get (url_wiki)\n",
    "req_wiki.status_code"
   ]
  },
  {
   "cell_type": "code",
   "execution_count": null,
   "metadata": {},
   "outputs": [],
   "source": [
    "#Establecemos una varibale que contenga una clase para req.content y el idioma que queremos que nos traduzca. \n",
    "#En este caso \"html.parse\"\n",
    "sopa_wiki = BeautifulSoup (req_wiki.content, \"html.parser\")\n",
    "sopa_wiki\n",
    "\n"
   ]
  },
  {
   "cell_type": "code",
   "execution_count": 30,
   "metadata": {},
   "outputs": [],
   "source": [
    "#Encontramos el identificador de la tabla en la inspección de la página web\n",
    "tabla = sopa_wiki.find('table', {'class': 'wikitable'})\n",
    "\n",
    "#Creamos una lista para almacenar las filas de la tabla\n",
    "filas_tabla = []"
   ]
  },
  {
   "cell_type": "markdown",
   "metadata": {},
   "source": [
    "Para cada fila, encontramos todas las celdas (<td> es la etiqueta HTML para las celdas de datos en una tabla) y extraemos el texto de cada celda, quitando los espacios en blanco con .strip(). Luego agregamos la lista de textos de las celdas a la lista filas_tabla.\n"
   ]
  },
  {
   "cell_type": "code",
   "execution_count": 44,
   "metadata": {},
   "outputs": [],
   "source": [
    "#Buscamos todas las filas de la tabla\n",
    "for fila in tabla.find_all('tr'):\n",
    "    #Extraemos el texto de cada celda de la fila\n",
    "    celdas = fila.find_all('td')\n",
    "    #Creamos una variable tipo lista para los datos que irán en cada fila y le quitamos los espacios\n",
    "    fila_datos = [celda.text.strip() for celda in celdas]\n",
    "    #Le aladimos los datos nuevos a cada fila de la tabla\n",
    "    filas_tabla.append(fila_datos)"
   ]
  },
  {
   "cell_type": "markdown",
   "metadata": {},
   "source": [
    "Con los datos extraídos, creamos un DataFrame de pandas. Este DataFrame puede ser manipulado para limpiar los datos, establecer los nombres de las columnas, etc."
   ]
  },
  {
   "cell_type": "code",
   "execution_count": 45,
   "metadata": {},
   "outputs": [
    {
     "data": {
      "text/html": [
       "<div>\n",
       "<style scoped>\n",
       "    .dataframe tbody tr th:only-of-type {\n",
       "        vertical-align: middle;\n",
       "    }\n",
       "\n",
       "    .dataframe tbody tr th {\n",
       "        vertical-align: top;\n",
       "    }\n",
       "\n",
       "    .dataframe thead th {\n",
       "        text-align: right;\n",
       "    }\n",
       "</style>\n",
       "<table border=\"1\" class=\"dataframe\">\n",
       "  <thead>\n",
       "    <tr style=\"text-align: right;\">\n",
       "      <th></th>\n",
       "      <th>0</th>\n",
       "      <th>1</th>\n",
       "      <th>2</th>\n",
       "      <th>3</th>\n",
       "      <th>4</th>\n",
       "      <th>5</th>\n",
       "    </tr>\n",
       "  </thead>\n",
       "  <tbody>\n",
       "    <tr>\n",
       "      <th>0</th>\n",
       "      <td>None</td>\n",
       "      <td>None</td>\n",
       "      <td>None</td>\n",
       "      <td>None</td>\n",
       "      <td>None</td>\n",
       "      <td>None</td>\n",
       "    </tr>\n",
       "    <tr>\n",
       "      <th>1</th>\n",
       "      <td>1</td>\n",
       "      <td>Estados Unidos (USA)</td>\n",
       "      <td>39</td>\n",
       "      <td>41</td>\n",
       "      <td>33</td>\n",
       "      <td>113</td>\n",
       "    </tr>\n",
       "    <tr>\n",
       "      <th>2</th>\n",
       "      <td>2</td>\n",
       "      <td>China (CHN)</td>\n",
       "      <td>38</td>\n",
       "      <td>32</td>\n",
       "      <td>19</td>\n",
       "      <td>89</td>\n",
       "    </tr>\n",
       "    <tr>\n",
       "      <th>3</th>\n",
       "      <td>3</td>\n",
       "      <td>Japón (JPN)</td>\n",
       "      <td>27</td>\n",
       "      <td>14</td>\n",
       "      <td>17</td>\n",
       "      <td>58</td>\n",
       "    </tr>\n",
       "    <tr>\n",
       "      <th>4</th>\n",
       "      <td>4</td>\n",
       "      <td>Reino Unido (GBR)</td>\n",
       "      <td>22</td>\n",
       "      <td>20</td>\n",
       "      <td>22</td>\n",
       "      <td>64</td>\n",
       "    </tr>\n",
       "    <tr>\n",
       "      <th>...</th>\n",
       "      <td>...</td>\n",
       "      <td>...</td>\n",
       "      <td>...</td>\n",
       "      <td>...</td>\n",
       "      <td>...</td>\n",
       "      <td>...</td>\n",
       "    </tr>\n",
       "    <tr>\n",
       "      <th>186</th>\n",
       "      <td>86</td>\n",
       "      <td>Granada (GRN)</td>\n",
       "      <td>0</td>\n",
       "      <td>0</td>\n",
       "      <td>1</td>\n",
       "      <td>1</td>\n",
       "    </tr>\n",
       "    <tr>\n",
       "      <th>187</th>\n",
       "      <td>86</td>\n",
       "      <td>Kuwait (KUW)</td>\n",
       "      <td>0</td>\n",
       "      <td>0</td>\n",
       "      <td>1</td>\n",
       "      <td>1</td>\n",
       "    </tr>\n",
       "    <tr>\n",
       "      <th>188</th>\n",
       "      <td>86</td>\n",
       "      <td>Moldavia (MDA)</td>\n",
       "      <td>0</td>\n",
       "      <td>0</td>\n",
       "      <td>1</td>\n",
       "      <td>1</td>\n",
       "    </tr>\n",
       "    <tr>\n",
       "      <th>189</th>\n",
       "      <td>86</td>\n",
       "      <td>Siria (SYR)</td>\n",
       "      <td>0</td>\n",
       "      <td>0</td>\n",
       "      <td>1</td>\n",
       "      <td>1</td>\n",
       "    </tr>\n",
       "    <tr>\n",
       "      <th>190</th>\n",
       "      <td>Total</td>\n",
       "      <td>93 países</td>\n",
       "      <td>340</td>\n",
       "      <td>338</td>\n",
       "      <td>402</td>\n",
       "      <td>1080</td>\n",
       "    </tr>\n",
       "  </tbody>\n",
       "</table>\n",
       "<p>191 rows × 6 columns</p>\n",
       "</div>"
      ],
      "text/plain": [
       "         0                     1     2     3     4     5\n",
       "0     None                  None  None  None  None  None\n",
       "1        1  Estados Unidos (USA)    39    41    33   113\n",
       "2        2           China (CHN)    38    32    19    89\n",
       "3        3           Japón (JPN)    27    14    17    58\n",
       "4        4     Reino Unido (GBR)    22    20    22    64\n",
       "..     ...                   ...   ...   ...   ...   ...\n",
       "186     86         Granada (GRN)     0     0     1     1\n",
       "187     86          Kuwait (KUW)     0     0     1     1\n",
       "188     86        Moldavia (MDA)     0     0     1     1\n",
       "189     86           Siria (SYR)     0     0     1     1\n",
       "190  Total             93 países   340   338   402  1080\n",
       "\n",
       "[191 rows x 6 columns]"
      ]
     },
     "execution_count": 45,
     "metadata": {},
     "output_type": "execute_result"
    }
   ],
   "source": [
    "#Creamos un DataFrame con los datos extraídos\n",
    "df_medallas = pd.DataFrame(filas_tabla)\n",
    "#Printeamos el DataFrame para ver el resultado\n",
    "df_medallas"
   ]
  },
  {
   "cell_type": "markdown",
   "metadata": {},
   "source": [
    "Convertimos en una función."
   ]
  },
  {
   "cell_type": "code",
   "execution_count": 46,
   "metadata": {},
   "outputs": [],
   "source": [
    "def extraer_datos_tabla(url):\n",
    "    \"\"\"\n",
    "    Extrae una tabla de una página web y la convierte en un DataFrame de pandas.\n",
    "    \n",
    "    Parameters:\n",
    "    -----------\n",
    "    url (str): La URL de la página web que contiene la tabla.\n",
    "    clase_tabla (str): La clase de la tabla a extraer.\n",
    "\n",
    "    Returns:\n",
    "    --------\n",
    "    pd.DataFrame: Un DataFrame que contiene los datos de la tabla extraída.\n",
    "    \"\"\"\n",
    "    \n",
    "    #Realizamos la solicitud para obtener el contenido de la página\n",
    "    respuesta = requests.get(url)\n",
    "\n",
    "    #Verificamos si la página se cargó correctamente\n",
    "    if respuesta.status_code != 200:\n",
    "        print(\"Ha habido un error en la petición.\")\n",
    "        return None\n",
    "\n",
    "    #Utilizamos BeautifulSoup para buscar en el contenido de la página y que lo traduzca\n",
    "    soup = BeautifulSoup(respuesta.content, 'html.parser')\n",
    "\n",
    "    #Creamos una lista para almacenar las filas de la tabla\n",
    "    filas_tabla = []\n",
    "    \n",
    "    for fila in tabla.find_all('tr'):\n",
    "        celdas = fila.find_all('td')\n",
    "        fila_datos = [celda.text.strip() for celda in celdas]\n",
    "        filas_tabla.append(fila_datos) \n",
    "\n",
    "    return df_medallas"
   ]
  },
  {
   "cell_type": "code",
   "execution_count": 41,
   "metadata": {},
   "outputs": [
    {
     "data": {
      "text/html": [
       "<div>\n",
       "<style scoped>\n",
       "    .dataframe tbody tr th:only-of-type {\n",
       "        vertical-align: middle;\n",
       "    }\n",
       "\n",
       "    .dataframe tbody tr th {\n",
       "        vertical-align: top;\n",
       "    }\n",
       "\n",
       "    .dataframe thead th {\n",
       "        text-align: right;\n",
       "    }\n",
       "</style>\n",
       "<table border=\"1\" class=\"dataframe\">\n",
       "  <thead>\n",
       "    <tr style=\"text-align: right;\">\n",
       "      <th></th>\n",
       "      <th>0</th>\n",
       "      <th>1</th>\n",
       "      <th>2</th>\n",
       "      <th>3</th>\n",
       "      <th>4</th>\n",
       "      <th>5</th>\n",
       "    </tr>\n",
       "  </thead>\n",
       "  <tbody>\n",
       "    <tr>\n",
       "      <th>0</th>\n",
       "      <td>None</td>\n",
       "      <td>None</td>\n",
       "      <td>None</td>\n",
       "      <td>None</td>\n",
       "      <td>None</td>\n",
       "      <td>None</td>\n",
       "    </tr>\n",
       "    <tr>\n",
       "      <th>1</th>\n",
       "      <td>1</td>\n",
       "      <td>Estados Unidos (USA)</td>\n",
       "      <td>39</td>\n",
       "      <td>41</td>\n",
       "      <td>33</td>\n",
       "      <td>113</td>\n",
       "    </tr>\n",
       "    <tr>\n",
       "      <th>2</th>\n",
       "      <td>2</td>\n",
       "      <td>China (CHN)</td>\n",
       "      <td>38</td>\n",
       "      <td>32</td>\n",
       "      <td>19</td>\n",
       "      <td>89</td>\n",
       "    </tr>\n",
       "    <tr>\n",
       "      <th>3</th>\n",
       "      <td>3</td>\n",
       "      <td>Japón (JPN)</td>\n",
       "      <td>27</td>\n",
       "      <td>14</td>\n",
       "      <td>17</td>\n",
       "      <td>58</td>\n",
       "    </tr>\n",
       "    <tr>\n",
       "      <th>4</th>\n",
       "      <td>4</td>\n",
       "      <td>Reino Unido (GBR)</td>\n",
       "      <td>22</td>\n",
       "      <td>20</td>\n",
       "      <td>22</td>\n",
       "      <td>64</td>\n",
       "    </tr>\n",
       "    <tr>\n",
       "      <th>...</th>\n",
       "      <td>...</td>\n",
       "      <td>...</td>\n",
       "      <td>...</td>\n",
       "      <td>...</td>\n",
       "      <td>...</td>\n",
       "      <td>...</td>\n",
       "    </tr>\n",
       "    <tr>\n",
       "      <th>90</th>\n",
       "      <td>86</td>\n",
       "      <td>Granada (GRN)</td>\n",
       "      <td>0</td>\n",
       "      <td>0</td>\n",
       "      <td>1</td>\n",
       "      <td>1</td>\n",
       "    </tr>\n",
       "    <tr>\n",
       "      <th>91</th>\n",
       "      <td>86</td>\n",
       "      <td>Kuwait (KUW)</td>\n",
       "      <td>0</td>\n",
       "      <td>0</td>\n",
       "      <td>1</td>\n",
       "      <td>1</td>\n",
       "    </tr>\n",
       "    <tr>\n",
       "      <th>92</th>\n",
       "      <td>86</td>\n",
       "      <td>Moldavia (MDA)</td>\n",
       "      <td>0</td>\n",
       "      <td>0</td>\n",
       "      <td>1</td>\n",
       "      <td>1</td>\n",
       "    </tr>\n",
       "    <tr>\n",
       "      <th>93</th>\n",
       "      <td>86</td>\n",
       "      <td>Siria (SYR)</td>\n",
       "      <td>0</td>\n",
       "      <td>0</td>\n",
       "      <td>1</td>\n",
       "      <td>1</td>\n",
       "    </tr>\n",
       "    <tr>\n",
       "      <th>94</th>\n",
       "      <td>Total</td>\n",
       "      <td>93 países</td>\n",
       "      <td>340</td>\n",
       "      <td>338</td>\n",
       "      <td>402</td>\n",
       "      <td>1080</td>\n",
       "    </tr>\n",
       "  </tbody>\n",
       "</table>\n",
       "<p>95 rows × 6 columns</p>\n",
       "</div>"
      ],
      "text/plain": [
       "        0                     1     2     3     4     5\n",
       "0    None                  None  None  None  None  None\n",
       "1       1  Estados Unidos (USA)    39    41    33   113\n",
       "2       2           China (CHN)    38    32    19    89\n",
       "3       3           Japón (JPN)    27    14    17    58\n",
       "4       4     Reino Unido (GBR)    22    20    22    64\n",
       "..    ...                   ...   ...   ...   ...   ...\n",
       "90     86         Granada (GRN)     0     0     1     1\n",
       "91     86          Kuwait (KUW)     0     0     1     1\n",
       "92     86        Moldavia (MDA)     0     0     1     1\n",
       "93     86           Siria (SYR)     0     0     1     1\n",
       "94  Total             93 países   340   338   402  1080\n",
       "\n",
       "[95 rows x 6 columns]"
      ]
     },
     "execution_count": 41,
     "metadata": {},
     "output_type": "execute_result"
    }
   ],
   "source": [
    "extraer_datos_tabla (url_wiki)"
   ]
  }
 ],
 "metadata": {
  "kernelspec": {
   "display_name": "base",
   "language": "python",
   "name": "python3"
  },
  "language_info": {
   "codemirror_mode": {
    "name": "ipython",
    "version": 3
   },
   "file_extension": ".py",
   "mimetype": "text/x-python",
   "name": "python",
   "nbconvert_exporter": "python",
   "pygments_lexer": "ipython3",
   "version": "3.9.7"
  }
 },
 "nbformat": 4,
 "nbformat_minor": 2
}
